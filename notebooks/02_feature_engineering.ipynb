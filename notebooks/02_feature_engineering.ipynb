{
 "cells": [
  {
   "cell_type": "markdown",
   "id": "8212d638",
   "metadata": {},
   "source": [
    "# Feature Engineering\n",
    "\n",
    "This notebook prepares features for modelling customer behaviour. It encodes categorical variables, creates target variables and splits the data into training and test sets."
   ]
  },
  {
   "cell_type": "code",
   "execution_count": null,
   "id": "a9a849ba",
   "metadata": {},
   "outputs": [],
   "source": [
    "import pandas as pd\n",
    "from sklearn.model_selection import train_test_split\n",
    "\n",
    "# Load cleaned data\n",
    "df = pd.read_csv('../data/processed/customers_clean.csv', parse_dates=['purchase_date'])\n",
    "df.head()"
   ]
  },
  {
   "cell_type": "code",
   "execution_count": null,
   "id": "105e760f",
   "metadata": {},
   "outputs": [],
   "source": [
    "# Encode membership type as an ordinal feature\n",
    "ordinal_map = {'Bronze': 0, 'Silver': 1, 'Gold': 2}\n",
    "df['membership_ordinal'] = df['membership_type'].map(ordinal_map)\n",
    "\n",
    "# Create binary targets\n",
    "df['target_high_value'] = df['total_spend'] >= 1000\n",
    "df['target_satisfied'] = df['satisfaction_level'] == 'Satisfied'"
   ]
  },
  {
   "cell_type": "code",
   "execution_count": null,
   "id": "3f915add",
   "metadata": {},
   "outputs": [],
   "source": [
    "# One‑hot encode categorical variables\n",
    "features = df[['age','total_spend','items_purchased','avg_rating','days_since_last_purchase','membership_ordinal']].copy()\n",
    "\n",
    "# Gender one‑hot\n",
    "gender_dummies = pd.get_dummies(df['gender'], prefix='gender', drop_first=True)\n",
    "# City one‑hot\n",
    "city_dummies = pd.get_dummies(df['city'], prefix='city', drop_first=True)\n",
    "# Discount applied one‑hot\n",
    "discount_dummies = pd.get_dummies(df['discount_applied'].map({True: 'Discount', False: 'No Discount'}), prefix='discount', drop_first=True)\n",
    "\n",
    "features = pd.concat([features, gender_dummies, city_dummies, discount_dummies], axis=1)\n",
    "features.head()"
   ]
  },
  {
   "cell_type": "code",
   "execution_count": null,
   "id": "24097580",
   "metadata": {},
   "outputs": [],
   "source": [
    "# Split into train and test sets for the high‑value target\n",
    "X_train, X_test, y_train, y_test = train_test_split(features, df['target_high_value'], test_size=0.2, random_state=42)\n",
    "print('Training set size:', X_train.shape)\n",
    "print('Test set size:', X_test.shape)"
   ]
  },
  {
   "cell_type": "code",
   "execution_count": null,
   "id": "88bf6ad9",
   "metadata": {},
   "outputs": [],
   "source": [
    "# Save feature matrix and targets for reuse\n",
    "import os\n",
    "os.makedirs('../data/interim', exist_ok=True)\n",
    "features.to_csv('../data/interim/features.csv', index=False)\n",
    "df[['target_high_value','target_satisfied']].to_csv('../data/interim/targets.csv', index=False)\n",
    "print('Features and targets saved to data/interim/')"
   ]
  }
 ],
 "metadata": {},
 "nbformat": 4,
 "nbformat_minor": 5
}
