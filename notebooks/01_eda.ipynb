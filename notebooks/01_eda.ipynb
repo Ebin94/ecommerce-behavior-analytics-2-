{
 "cells": [
  {
   "cell_type": "markdown",
   "id": "84cb6824",
   "metadata": {},
   "source": [
    "# Exploratory Data Analysis\n",
    "\n",
    "This notebook explores the cleaned e‑commerce dataset. It computes descriptive statistics, visualises relationships between variables and annotates observations. Run the cells in order."
   ]
  },
  {
   "cell_type": "code",
   "execution_count": null,
   "id": "91fbcb6f",
   "metadata": {},
   "outputs": [],
   "source": [
    "import pandas as pd\n",
    "import matplotlib.pyplot as plt\n",
    "\n",
    "# Ensure charts render inline\n",
    "%matplotlib inline\n",
    "\n",
    "# Load the cleaned dataset\n",
    "df = pd.read_csv('../data/processed/customers_clean.csv', parse_dates=['purchase_date'])\n",
    "\n",
    "# Inspect the first few rows\n",
    "df.head()"
   ]
  },
  {
   "cell_type": "code",
   "execution_count": null,
   "id": "5a2f945e",
   "metadata": {},
   "outputs": [],
   "source": [
    "# Summary statistics\n",
    "df.describe(include='all')"
   ]
  },
  {
   "cell_type": "code",
   "execution_count": null,
   "id": "16816fec",
   "metadata": {},
   "outputs": [],
   "source": [
    "# Correlation heatmap\n",
    "import numpy as np\n",
    "metrics = ['total_spend','items_purchased','avg_rating','age','days_since_last_purchase']\n",
    "corr = df[metrics].corr()\n",
    "plt.figure(figsize=(6,4))\n",
    "im = plt.imshow(corr, interpolation='nearest')\n",
    "plt.colorbar(im)\n",
    "plt.xticks(range(len(metrics)), metrics, rotation=45, ha='right')\n",
    "plt.yticks(range(len(metrics)), metrics)\n",
    "plt.title('Correlation Heatmap')\n",
    "plt.tight_layout()\n",
    "plt.show()"
   ]
  },
  {
   "cell_type": "code",
   "execution_count": null,
   "id": "d8098e8a",
   "metadata": {},
   "outputs": [],
   "source": [
    "# Average spend by membership type\n",
    "avg_spend = df.groupby('membership_type')['total_spend'].mean().sort_index()\n",
    "avg_spend.plot(kind='bar')\n",
    "plt.ylabel('Average Spend')\n",
    "plt.title('Average Spend by Membership Type')\n",
    "plt.xticks(rotation=0)\n",
    "plt.tight_layout()\n",
    "plt.show()"
   ]
  },
  {
   "cell_type": "markdown",
   "id": "79b696ec",
   "metadata": {},
   "source": [
    "Gold members spend roughly 2–3× more than Bronze members. This is visible from the bar chart above."
   ]
  },
  {
   "cell_type": "code",
   "execution_count": null,
   "id": "01412756",
   "metadata": {},
   "outputs": [],
   "source": [
    "# Age vs total spend coloured by membership type\n",
    "plt.figure()\n",
    "for tier, group in df.groupby('membership_type'):\n",
    "    plt.scatter(group['age'], group['total_spend'], alpha=0.6, label=tier)\n",
    "plt.xlabel('Age')\n",
    "plt.ylabel('Total Spend')\n",
    "plt.legend()\n",
    "plt.title('Age vs Total Spend by Membership Type')\n",
    "plt.tight_layout()\n",
    "plt.show()"
   ]
  },
  {
   "cell_type": "code",
   "execution_count": null,
   "id": "cf13cea6",
   "metadata": {},
   "outputs": [],
   "source": [
    "# Discount effect on spending and rating\n",
    "avg_spend_discount = df.groupby('discount_applied')['total_spend'].mean()\n",
    "avg_rating_discount = df.groupby('discount_applied')['avg_rating'].mean()\n",
    "\n",
    "# Plot average spend by discount status\n",
    "plt.figure()\n",
    "avg_spend_discount.plot(kind='bar')\n",
    "plt.ylabel('Average Spend')\n",
    "plt.title('Average Spend by Discount Status')\n",
    "plt.xticks(rotation=0)\n",
    "plt.tight_layout()\n",
    "plt.show()\n",
    "\n",
    "# Plot average rating by discount status\n",
    "plt.figure()\n",
    "avg_rating_discount.plot(kind='bar')\n",
    "plt.ylabel('Average Rating')\n",
    "plt.title('Average Rating by Discount Status')\n",
    "plt.xticks(rotation=0)\n",
    "plt.tight_layout()\n",
    "plt.show()"
   ]
  },
  {
   "cell_type": "code",
   "execution_count": null,
   "id": "1a50e7b6",
   "metadata": {},
   "outputs": [],
   "source": [
    "# Distribution of days since last purchase\n",
    "plt.hist(df['days_since_last_purchase'], bins=20)\n",
    "plt.title('Distribution of Days Since Last Purchase')\n",
    "plt.xlabel('Days')\n",
    "plt.ylabel('Frequency')\n",
    "plt.tight_layout()\n",
    "plt.show()"
   ]
  },
  {
   "cell_type": "code",
   "execution_count": null,
   "id": "c2410d0f",
   "metadata": {},
   "outputs": [],
   "source": [
    "# Boxplot of total spend by satisfaction level\n",
    "levels = df['satisfaction_level'].unique()\n",
    "data = [df[df['satisfaction_level']==level]['total_spend'] for level in levels]\n",
    "plt.figure()\n",
    "plt.boxplot(data, labels=levels)\n",
    "plt.title('Total Spend by Satisfaction Level')\n",
    "plt.ylabel('Total Spend')\n",
    "plt.tight_layout()\n",
    "plt.show()"
   ]
  },
  {
   "cell_type": "markdown",
   "id": "cda60dad",
   "metadata": {},
   "source": [
    "The distribution plots highlight that many customers have not purchased recently and that dissatisfaction corresponds with higher variability in spending. Satisfied customers tend to repurchase sooner."
   ]
  }
 ],
 "metadata": {},
 "nbformat": 4,
 "nbformat_minor": 5
}
